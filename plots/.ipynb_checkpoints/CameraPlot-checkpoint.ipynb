{
 "cells": [
  {
   "cell_type": "code",
   "execution_count": 1,
   "metadata": {},
   "outputs": [],
   "source": [
    "import numpy as np\n",
    "import os\n",
    "import os.path\n",
    "import matplotlib.pyplot as plt\n",
    "from collections import OrderedDict\n",
    "import math"
   ]
  },
  {
   "cell_type": "code",
   "execution_count": 2,
   "metadata": {},
   "outputs": [],
   "source": [
    "def read_camera_times(frame_id):\n",
    "    file_path = \"./perception_camera_1080/\" + str(frame_id) + \"_times.txt\"\n",
    "    times_tmp = {}\n",
    "    with open(file_path) as camera_times_file:\n",
    "        lines = camera_times_file.readlines()\n",
    "        for line in lines:\n",
    "            components = line.strip().split()\n",
    "            if components[0] != \"FeatureExtractor::Extract:\":\n",
    "                times_tmp[components[0]] = float(components[1])\n",
    "    clusters = [(\"LanePostprocessing\", [\"LanePostprocessor::Process2D:\", \"CalibrationService::Update:\", \"LanePostprocessor::Process3D:\"]),\n",
    "                (\"ObstaclePostprocessor\", [\"ObstaclePostprocessor::Process:\", \"Tracker::Associate3D:\", \"Tracker::Track:\", \"FillObjectPolygon:\"])]\n",
    "    old_keys_all = []\n",
    "    for new_key, old_keys in clusters:\n",
    "        tmp = 0.0\n",
    "        for old_key in old_keys:\n",
    "            old_keys_all.append(old_key)\n",
    "            tmp += times_tmp[old_key]\n",
    "        times_tmp[new_key] = tmp\n",
    "    times = OrderedDict()\n",
    "    times[\"LaneDetection\"] = times_tmp[\"LaneDetector::Detect:\"]\n",
    "    times[\"LanePostprocessing\"] = times_tmp[\"LanePostprocessing\"]\n",
    "    times[\"TrackerPrediction\"] = times_tmp[\"Tracker::Predict:\"]\n",
    "    times[\"ObstacleDetection\"] = times_tmp[\"YoloObstacleDetector::Detect:\"]\n",
    "    times[\"TrackerAssociation\"] = times_tmp[\"Tracker::Associate2D:\"]\n",
    "    times[\"Transformer\"] = times_tmp[\"Transformer::Transform:\"]\n",
    "    times[\"ObstaclePostprocessing\"] = times_tmp[\"ObstaclePostprocessor\"]\n",
    "    #for key in times_tmp.keys():\n",
    "     #   if key not in old_keys_all:\n",
    "     #       times[key] = times_tmp[key]\n",
    "    return times"
   ]
  },
  {
   "cell_type": "code",
   "execution_count": 3,
   "metadata": {},
   "outputs": [],
   "source": [
    "def get_frames_count():\n",
    "    return len([file_name for file_name in os.listdir(\"./perception_camera_1080/\") if file_name.endswith(\"times.txt\")])"
   ]
  },
  {
   "cell_type": "code",
   "execution_count": 4,
   "metadata": {},
   "outputs": [],
   "source": [
    "def print_frames_stats(frames_times):\n",
    "    average_response_time = 0.0\n",
    "    keys = frames_times[0].keys()\n",
    "    response_times = OrderedDict()\n",
    "    for key in keys:\n",
    "        values = np.array([frame_times[key] for frame_times in frames_times])\n",
    "        mean = np.round(np.mean(values), decimals=2)\n",
    "        std_dev = np.round(np.std(values), decimals=2)\n",
    "        response_times[key] = mean\n",
    "        average_response_time += mean\n",
    "        print(\"{} - {} - {}\".format(key, mean, std_dev))\n",
    "    response_times[\"average_response_time\"] = average_response_time\n",
    "    print(\"Average response time: {}\".format(average_response_time))\n",
    "    return response_times"
   ]
  },
  {
   "cell_type": "code",
   "execution_count": 10,
   "metadata": {},
   "outputs": [],
   "source": [
    "def plot_frames_times_vertical_bar_chart(frames_times, response_times, obstacles_detected_counts):\n",
    "    figure, axes1 = plt.subplots(figsize=(20,10))\n",
    "    legend_names = []\n",
    "    legend_bars = []\n",
    "    inserted_keys = []\n",
    "    bottoms = np.zeros(len(frames_times))\n",
    "    zero = 0.0\n",
    "    for key in response_times.keys():\n",
    "        if response_times[key] > 1 and key != \"average_response_time\":\n",
    "            inserted_keys.append(key)\n",
    "            values = [frame_times[key] for frame_times in frames_times]\n",
    "            legend_names.append(\"{} - {} ms\".format(key, response_times[key]))\n",
    "            legend_bars.append(axes1.bar(np.arange(len(frames_times)), values, width=0.5, bottom=bottoms)[0])\n",
    "            bottoms += values\n",
    "    for key in inserted_keys:\n",
    "        axes1.plot([0, len(frames_times) - 1], [zero + response_times[key], zero + response_times[key]], color=\"black\")\n",
    "        zero += response_times[key]\n",
    "    axes1.set_ylabel(\"Tasks Times [ms]\")\n",
    "    axes1.set_xticks(np.arange(len(frames_times), int(math.sqrt(len(frames_times)))))\n",
    "    axes1.set_title(\"Average Response Time {} ms\".format(response_times[\"average_response_time\"]))\n",
    "    axes1.legend(legend_bars, legend_names)\n",
    "    axes2 = axes1.twinx()\n",
    "    axes2.plot(range(len(frames_times)), obstacles_detected_counts, \"o\", color=\"red\")\n",
    "    aces2.set_ylabel(\"Obstacles Detected Count\")\n",
    "    plt.savefig(\"obstacle_detection.svg\")"
   ]
  },
  {
   "cell_type": "code",
   "execution_count": 11,
   "metadata": {},
   "outputs": [],
   "source": [
    "def get_obstacles_detected_count(frame_id):\n",
    "    file_path = \"./perception_camera_1080/\" + str(frame_id) + \".txt\"\n",
    "    with open(file_path) as obstacles_detected_file:\n",
    "        lines = obstacles_detected_file.readlines()\n",
    "        return int(lines[1])"
   ]
  },
  {
   "cell_type": "code",
   "execution_count": 12,
   "metadata": {},
   "outputs": [
    {
     "name": "stdout",
     "output_type": "stream",
     "text": [
      "LaneDetection - 38.14 - 0.89\n",
      "LanePostprocessing - 0.72 - 0.06\n",
      "TrackerPrediction - 0.01 - 0.0\n",
      "ObstacleDetection - 9.56 - 0.41\n",
      "TrackerAssociation - 0.73 - 0.15\n",
      "Transformer - 0.2 - 0.06\n",
      "ObstaclePostprocessing - 0.4 - 0.13\n",
      "Average response time: 49.76\n"
     ]
    },
    {
     "ename": "TypeError",
     "evalue": "'list' object cannot be interpreted as an integer",
     "output_type": "error",
     "traceback": [
      "\u001b[0;31m--------------------------------------------------------------------\u001b[0m",
      "\u001b[0;31mTypeError\u001b[0m                          Traceback (most recent call last)",
      "\u001b[0;32m<ipython-input-12-3a8b36a65cee>\u001b[0m in \u001b[0;36m<module>\u001b[0;34m()\u001b[0m\n\u001b[1;32m      6\u001b[0m     \u001b[0mobstacles_detected_counts\u001b[0m\u001b[0;34m.\u001b[0m\u001b[0mappend\u001b[0m\u001b[0;34m(\u001b[0m\u001b[0mget_obstacles_detected_count\u001b[0m\u001b[0;34m(\u001b[0m\u001b[0mframe_id\u001b[0m\u001b[0;34m)\u001b[0m\u001b[0;34m)\u001b[0m\u001b[0;34m\u001b[0m\u001b[0m\n\u001b[1;32m      7\u001b[0m \u001b[0mresponse_times\u001b[0m \u001b[0;34m=\u001b[0m \u001b[0mprint_frames_stats\u001b[0m\u001b[0;34m(\u001b[0m\u001b[0mframes_times\u001b[0m\u001b[0;34m)\u001b[0m\u001b[0;34m\u001b[0m\u001b[0m\n\u001b[0;32m----> 8\u001b[0;31m \u001b[0mplot_frames_times_vertical_bar_chart\u001b[0m\u001b[0;34m(\u001b[0m\u001b[0mframes_times\u001b[0m\u001b[0;34m,\u001b[0m \u001b[0mresponse_times\u001b[0m\u001b[0;34m,\u001b[0m \u001b[0mobstacles_detected_counts\u001b[0m\u001b[0;34m)\u001b[0m\u001b[0;34m\u001b[0m\u001b[0m\n\u001b[0m",
      "\u001b[0;32m<ipython-input-10-6ce59cbb9117>\u001b[0m in \u001b[0;36mplot_frames_times_vertical_bar_chart\u001b[0;34m(frames_times, response_times, obstacles_detected_counts)\u001b[0m\n\u001b[1;32m     21\u001b[0m     \u001b[0maxes1\u001b[0m\u001b[0;34m.\u001b[0m\u001b[0mlegend\u001b[0m\u001b[0;34m(\u001b[0m\u001b[0mlegend_bars\u001b[0m\u001b[0;34m,\u001b[0m \u001b[0mlegend_names\u001b[0m\u001b[0;34m)\u001b[0m\u001b[0;34m\u001b[0m\u001b[0m\n\u001b[1;32m     22\u001b[0m     \u001b[0maxes2\u001b[0m \u001b[0;34m=\u001b[0m \u001b[0maxes1\u001b[0m\u001b[0;34m.\u001b[0m\u001b[0mtwinx\u001b[0m\u001b[0;34m(\u001b[0m\u001b[0;34m)\u001b[0m\u001b[0;34m\u001b[0m\u001b[0m\n\u001b[0;32m---> 23\u001b[0;31m     \u001b[0maxes2\u001b[0m\u001b[0;34m.\u001b[0m\u001b[0mplot\u001b[0m\u001b[0;34m(\u001b[0m\u001b[0mrange\u001b[0m\u001b[0;34m(\u001b[0m\u001b[0mframes_times\u001b[0m\u001b[0;34m)\u001b[0m\u001b[0;34m,\u001b[0m \u001b[0mobstacles_detected_counts\u001b[0m\u001b[0;34m,\u001b[0m \u001b[0;34m\"o\"\u001b[0m\u001b[0;34m,\u001b[0m \u001b[0mcolor\u001b[0m\u001b[0;34m=\u001b[0m\u001b[0;34m\"red\"\u001b[0m\u001b[0;34m)\u001b[0m\u001b[0;34m\u001b[0m\u001b[0m\n\u001b[0m\u001b[1;32m     24\u001b[0m     \u001b[0maces2\u001b[0m\u001b[0;34m.\u001b[0m\u001b[0mset_ylabel\u001b[0m\u001b[0;34m(\u001b[0m\u001b[0;34m\"Obstacles Detected Count\"\u001b[0m\u001b[0;34m)\u001b[0m\u001b[0;34m\u001b[0m\u001b[0m\n\u001b[1;32m     25\u001b[0m     \u001b[0mplt\u001b[0m\u001b[0;34m.\u001b[0m\u001b[0msavefig\u001b[0m\u001b[0;34m(\u001b[0m\u001b[0;34m\"obstacle_detection.svg\"\u001b[0m\u001b[0;34m)\u001b[0m\u001b[0;34m\u001b[0m\u001b[0m\n",
      "\u001b[0;31mTypeError\u001b[0m: 'list' object cannot be interpreted as an integer"
     ]
    },
    {
     "data": {
      "image/png": "[encoded data removed]",
      "text/plain": [
       "<Figure size 1440x720 with 2 Axes>"
      ]
     },
     "metadata": {
      "needs_background": "light"
     },
     "output_type": "display_data"
    }
   ],
   "source": [
    "frames_count = get_frames_count() - 1\n",
    "frames_times = []\n",
    "obstacles_detected_counts = []\n",
    "for frame_id in range(2, frames_count + 1):\n",
    "    frames_times.append(read_camera_times(frame_id))\n",
    "    obstacles_detected_counts.append(get_obstacles_detected_count(frame_id))\n",
    "response_times = print_frames_stats(frames_times)\n",
    "plot_frames_times_vertical_bar_chart(frames_times, response_times, obstacles_detected_counts)"
   ]
  },
  {
   "cell_type": "code",
   "execution_count": null,
   "metadata": {},
   "outputs": [],
   "source": []
  },
  {
   "cell_type": "code",
   "execution_count": null,
   "metadata": {},
   "outputs": [],
   "source": []
  }
 ],
 "metadata": {
  "kernelspec": {
   "display_name": "Python 3",
   "language": "python",
   "name": "python3"
  },
  "language_info": {
   "codemirror_mode": {
    "name": "ipython",
    "version": 3
   },
   "file_extension": ".py",
   "mimetype": "text/x-python",
   "name": "python",
   "nbconvert_exporter": "python",
   "pygments_lexer": "ipython3",
   "version": "3.4.3"
  }
 },
 "nbformat": 4,
 "nbformat_minor": 2
}
