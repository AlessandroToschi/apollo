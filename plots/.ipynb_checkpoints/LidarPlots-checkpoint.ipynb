{
 "cells": [
  {
   "cell_type": "code",
   "execution_count": 117,
   "metadata": {},
   "outputs": [],
   "source": [
    "import matplotlib.pyplot as plt\n",
    "import os\n",
    "import os.path\n",
    "import math\n",
    "import numpy as np"
   ]
  },
  {
   "cell_type": "code",
   "execution_count": 118,
   "metadata": {},
   "outputs": [],
   "source": [
    "def create_file_name(path, name, suffix):\n",
    "    return os.path.join(path, name + suffix)"
   ]
  },
  {
   "cell_type": "code",
   "execution_count": 119,
   "metadata": {},
   "outputs": [],
   "source": [
    "def read_lidar_times(frame_id):\n",
    "    file_path = create_file_name(\"../debug_output/\", str(frame_id), \"_seg.txt\")\n",
    "    if not os.path.exists(file_path):\n",
    "        print(\"File path: {} does not exists.\".format(file_path))\n",
    "        return {}\n",
    "    times = {}\n",
    "    with open(file_path) as lidar_times_file:\n",
    "        lines = lidar_times_file.readlines()\n",
    "        for line in lines:\n",
    "            components = line.strip().split()\n",
    "            times[components[0]] = float(components[1])\n",
    "    return times"
   ]
  },
  {
   "cell_type": "code",
   "execution_count": 135,
   "metadata": {},
   "outputs": [],
   "source": [
    "def plot_lidar_times(times_list):\n",
    "    average_times = {}\n",
    "    std_dev_times = {}\n",
    "    keys = times_list[0].keys()\n",
    "    for key in keys:\n",
    "        values = np.array([times[key] for times in times_list])\n",
    "        average_times[key] = np.round(np.average(values), decimals=3)\n",
    "        std_dev_times[key] = np.round(np.sqrt(np.var(values)), decimals=3)\n",
    "        print(\"{} - {} - {}\".format(key, average_times[key], std_dev_times[key]))\n",
    "    average_response_time = np.round(np.sum([average_times[key] for key in keys]), decimals=3)\n",
    "    legend_names = []\n",
    "    legend_bars = []\n",
    "    figure, axes = plt.subplots(figsize=(20,10))\n",
    "    reversed_keys = list(keys)\n",
    "    valuess = []\n",
    "    for key in reversed_keys:\n",
    "        if average_times[key] > 1:\n",
    "            legend_names.append(key)\n",
    "            values = [times[key] for times in times_list]\n",
    "            valuess.append(values)\n",
    "            if len(legend_bars) > 100:\n",
    "                legend_bars.append(axes.bar(np.arange(len(values)), values, width=0.5, bottom=legend_bars[-1].height))\n",
    "            else:\n",
    "                legend_bars.append(axes.bar(range(len(values)), values, width=0.5))\n",
    "    axes.set_ylabel(\"Step Times [ms]\")\n",
    "    axes.set_xticks(np.arange(len(times_list), int(math.sqrt(len(times_list)))))\n",
    "    axes.set_title(\"Lidar Segmentation {} ms\".format(average_response_time))\n",
    "    axes.legend(legend_bars, legend_names)\n",
    "    plt.savefig(\"pippo.svg\")"
   ]
  },
  {
   "cell_type": "code",
   "execution_count": 136,
   "metadata": {},
   "outputs": [],
   "source": [
    "def main():\n",
    "    if not os.path.exists(\"../debug_output\"):\n",
    "        print(\"The debug_output folder must exist!\")\n",
    "        return\n",
    "    lidar_times_count = len(os.listdir(\"../debug_output\"))\n",
    "    times_list = []\n",
    "    for i in range(1, lidar_times_count + 1):\n",
    "        times = read_lidar_times(i)\n",
    "        times_list.append(times)\n",
    "    plot_lidar_times(times_list)"
   ]
  },
  {
   "cell_type": "code",
   "execution_count": 137,
   "metadata": {},
   "outputs": [
    {
     "name": "stdout",
     "output_type": "stream",
     "text": [
      "CloudPreprocessor::Preprocess: - 8.837 - 5.626\n",
      "MapManager::Update: - 0.0 - 0.0\n",
      "ObjectFilter::Filter: - 0.011 - 0.004\n",
      "Segmentor::Segment: - 41.0 - 1.781\n",
      "ObjectBuilder::Build: - 0.578 - 1.596\n"
     ]
    },
    {
     "data": {
      "image/png": "[encoded data removed]",
      "text/plain": [
       "<Figure size 1440x720 with 1 Axes>"
      ]
     },
     "metadata": {
      "needs_background": "light"
     },
     "output_type": "display_data"
    }
   ],
   "source": [
    "main()"
   ]
  },
  {
   "cell_type": "code",
   "execution_count": null,
   "metadata": {},
   "outputs": [],
   "source": []
  }
 ],
 "metadata": {
  "kernelspec": {
   "display_name": "Python 3",
   "language": "python",
   "name": "python3"
  },
  "language_info": {
   "codemirror_mode": {
    "name": "ipython",
    "version": 3
   },
   "file_extension": ".py",
   "mimetype": "text/x-python",
   "name": "python",
   "nbconvert_exporter": "python",
   "pygments_lexer": "ipython3",
   "version": "3.4.3"
  }
 },
 "nbformat": 4,
 "nbformat_minor": 2
}
